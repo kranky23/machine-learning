{
 "cells": [
  {
   "cell_type": "markdown",
   "metadata": {},
   "source": [
    "# Machine Learning Engineer Nanodegree\n",
    "\n",
    "# Model Evaluation & Validation\n",
    "\n",
    "# Project: Classifying customers to help grow new accounts\n",
    "\n",
    "CFS has secured several new major accounts -- companies which previously purchased only from their competitors, including those old-time financial service bastions in Manhattan. The bad news is that these new customers are only purchasing one or two of their products, instead of the wide array of products they sell to their more established customers. In fact, revenue from their newly acquired customers is only about one-tenth that of their older wholesale customers. To grow new accounts, they need to know which products are most appropriate to sell to which new customers.\n",
    "\n",
    "# Getting Started\n",
    "\n",
    "To begin working with the customers data, we'll first need to import the functionality we need, and load our data into a pandas DataFrame. Run the code cell below to load our data and display the first few entries (customers) for examination using the .head() function.\n"
   ]
  },
  {
   "cell_type": "code",
   "execution_count": 37,
   "metadata": {},
   "outputs": [
    {
     "name": "stdout",
     "output_type": "stream",
     "text": [
      "      Type     LifeStyle  Vacation  eCredit  salary  property label\n",
      "0  student  spend>saving         6       40   13.62    3.2804    C1\n",
      "1  student  spend>saving        11       21   15.32    2.0232    C1\n",
      "2  student  spend>saving         7       64   16.55    3.1202    C1\n",
      "3  student  spend>saving         3       47   15.71    3.4022    C1\n",
      "4  student  spend>saving        15       10   16.96    2.2825    C1\n"
     ]
    }
   ],
   "source": [
    "import pandas as pd\n",
    "import numpy as np\n",
    "import xlrd\n",
    "workbook = xlrd.open_workbook('similaritymatrix.xls')\n",
    "names = [\"Type\",\"LifeStyle\",\"Vacation\",\"eCredit\",\"salary\",\"property\",\"label\"]\n",
    "train=pd.read_csv(\"training.txt\",names=names)\n",
    "test=pd.read_csv(\"testing.txt\",names=names)\n",
    "print train.head()"
   ]
  },
  {
   "cell_type": "markdown",
   "metadata": {},
   "source": [
    "As we have to predict the output label of the dataset, the 'label' attribute is removed and the operations are performed so as to deduce the output. Also the values in the above tabel are not normalized. To perform the operations, values must be in between 0 and 1. So a function is initialised so as to normalise the values of the attributes."
   ]
  },
  {
   "cell_type": "code",
   "execution_count": 30,
   "metadata": {
    "collapsed": true
   },
   "outputs": [],
   "source": [
    "def normalFn(arr):\n",
    "    minn = np.min(arr)\n",
    "    maxx = np.max(arr)\n",
    "    finalArr =[]\n",
    "    for i in arr:\n",
    "        value = float(i-minn)/float(maxx-minn)\n",
    "        finalArr.append(value)\n",
    "    return finalArr\n",
    "\n",
    "nvac = normalFn(train['Vacation'])\n",
    "nec = normalFn(train['eCredit'])\n",
    "nsal = normalFn(train['salary'])\n",
    "npro = normalFn(train['property'])\n",
    "# print nec,nvac"
   ]
  },
  {
   "cell_type": "markdown",
   "metadata": {},
   "source": [
    "The normalised values obtained from the function must be replaced with the values in the dataset."
   ]
  },
  {
   "cell_type": "code",
   "execution_count": 31,
   "metadata": {},
   "outputs": [
    {
     "name": "stdout",
     "output_type": "stream",
     "text": [
      "      Type     LifeStyle  Vacation   eCredit    salary  property label\n",
      "0  student  spend>saving  0.079365  0.107558  0.219960  0.183167    C1\n",
      "1  student  spend>saving  0.158730  0.052326  0.293102  0.112797    C1\n",
      "2  student  spend>saving  0.095238  0.177326  0.346023  0.174200    C1\n",
      "3  student  spend>saving  0.031746  0.127907  0.309882  0.189984    C1\n",
      "4  student  spend>saving  0.222222  0.020349  0.363663  0.127311    C1\n"
     ]
    }
   ],
   "source": [
    "train['Vacation'] = nvac\n",
    "train['eCredit'] = nec\n",
    "train['salary'] = nsal\n",
    "train['property'] = npro\n",
    "print train.head()\n",
    "# print train.ix[1]['Type']"
   ]
  },
  {
   "cell_type": "markdown",
   "metadata": {},
   "source": [
    "A similarity matrix has been given such that the values of the string can be referred from the matrix and can be converted to numeric values. Then the required operations are performed."
   ]
  },
  {
   "cell_type": "code",
   "execution_count": 32,
   "metadata": {},
   "outputs": [
    {
     "name": "stdout",
     "output_type": "stream",
     "text": [
      "      Type     LifeStyle  Vacation   eCredit    salary  property label\n",
      "0  student  spend>saving  0.079365  0.107558  0.219960  0.183167    C1\n",
      "1  student  spend>saving  0.158730  0.052326  0.293102  0.112797    C1\n",
      "2  student  spend>saving  0.095238  0.177326  0.346023  0.174200    C1\n",
      "3  student  spend>saving  0.031746  0.127907  0.309882  0.189984    C1\n",
      "4  student  spend>saving  0.222222  0.020349  0.363663  0.127311    C1\n"
     ]
    }
   ],
   "source": [
    "def sim(x,y):\n",
    "    dict1={'student':1,'engineer':2,'librarian':3,'professor':4,'doctor':5}\n",
    "    dict2={'spend<<saving':1,'spend<saving':2,'spend>saving':3,'spend>>saving':4}\n",
    "    if(x in dict1.keys()):\n",
    "        worksheet=workbook.sheet_by_index(0)\n",
    "        return worksheet.cell(dict1[x],dict1[y]).value\n",
    "    else:\n",
    "        worksheet=workbook.sheet_by_index(2)\n",
    "        return worksheet.cell(dict2[x],dict2[y]).value\n",
    "print train.head()"
   ]
  },
  {
   "cell_type": "markdown",
   "metadata": {},
   "source": [
    "As we are now analysing the data, the output attribute 'Label' is now being removed. The 'k' value given to us is 3. Distances are calculated accordingly for values in the testing data. The highest values in each class is noted and are stored in an array called distances. It is continued for all the values in the testing data and the maximum values are stored in the distances array."
   ]
  },
  {
   "cell_type": "code",
   "execution_count": 35,
   "metadata": {},
   "outputs": [
    {
     "name": "stderr",
     "output_type": "stream",
     "text": [
      "C:\\ProgramData\\Anaconda2\\lib\\site-packages\\ipykernel_launcher.py:23: DeprecationWarning: \n",
      ".ix is deprecated. Please use\n",
      ".loc for label based indexing or\n",
      ".iloc for positional indexing\n",
      "\n",
      "See the documentation here:\n",
      "http://pandas.pydata.org/pandas-docs/stable/indexing.html#ix-indexer-is-deprecated\n"
     ]
    },
    {
     "name": "stdout",
     "output_type": "stream",
     "text": [
      "['C1', 'C1', 'C1', 'C1', 'C2', 'C2', 'C2', 'C2', 'C3', 'C3', 'C3', 'C3', 'C5', 'C4', 'C1', 'C1', 'C4', 'C4', 'C5', 'C5', 'C5']\n"
     ]
    }
   ],
   "source": [
    "features = test.drop('label', axis = 1)\n",
    "# minvac = np.min(features_vector['Vacation'])\n",
    "# maxvac = np.max(features_vector['Vacation'])\n",
    "# mincre = np.min(features_vector['eCredit'])\n",
    "# maxcre = np.max(features_vector['eCredit'])\n",
    "# minsal = np.min(features_vector['salary'])\n",
    "# maxsal = np.max(features_vector['salary'])\n",
    "# minprop = np.min(features_vector['property'])\n",
    "# maxprop = np.min(features_vector['property'])\n",
    "nvac = normalFn(test['Vacation'])\n",
    "nec = normalFn(test['eCredit'])\n",
    "nsal = normalFn(test['salary'])\n",
    "npro = normalFn(test['property'])\n",
    "features['Vacation'] = nvac\n",
    "features['eCredit'] = nec\n",
    "features['salary'] = nsal\n",
    "features['property'] = npro\n",
    "# print features.head()\n",
    "\n",
    "label=test['label']\n",
    "predicted=[]\n",
    "for i in features.index:\n",
    "    features_vector=features.ix[i]\n",
    "    distances=[]\n",
    "    for j in train.index:\n",
    "        train_vector=train.ix[j]\n",
    "\n",
    "        type_value=1-sim(train_vector['Type'],features_vector['Type'])\n",
    "\n",
    "        LifeStyle_value =1-sim(train_vector['LifeStyle'],features_vector['LifeStyle'])\n",
    "        \n",
    "        Vacation_value=np.power(train_vector['Vacation']-features_vector['Vacation'],2)\n",
    "        \n",
    "#         eCredit_normalized=(features_vector['eCredit']-min_eCredit)/float((max_eCredit-min_eCredit))\n",
    "        eCredit_value=np.power(train_vector['eCredit']-features_vector['eCredit'],2)\n",
    "\n",
    "#         salary_normalized=(features_vector['salary']-min_salary)/float((max_salary-min_salary))\n",
    "        salary_value=np.power(train_vector['salary']-features_vector['salary'],2)\n",
    "\n",
    "#         property_normalized=(features_vector['property']-min_property)/float((max_property-min_property))\n",
    "        property_value=np.power(train_vector['property']-features_vector['property'],2)\n",
    "\n",
    "        similarity=1/np.sqrt(type_value+LifeStyle_value+Vacation_value+eCredit_value+salary_value+property_value)\n",
    "        distances.append((similarity,train_vector['label']))\n",
    "        Top3=sorted(distances,key=lambda x: x[0])[-3:]\n",
    "#     c1=0\n",
    "#     c2=0\n",
    "#     c3=0\n",
    "#     c4=0\n",
    "#     c5=0\n",
    "#     predicted_label=\"None\"\n",
    "#     for dist,clas in Top3:\n",
    "#         if(clas=='c1'):\n",
    "#             c1=c1+dist\n",
    "#         elif(clas=='c2'):\n",
    "#             c2=c2+dist\n",
    "#         elif(clas=='c3'):\n",
    "#             c3=c3+dist\n",
    "#         elif(clas=='c4'):\n",
    "#             c4=c4+dist\n",
    "#         else:\n",
    "#             c5=c5+dist\n",
    "#     if(c1>c2 and c1>c3 and c1>c4 and c1>c5):\n",
    "#         predicted_label=\"c1\"\n",
    "#     elif(c2>c3 and c2>c1 and c2>c4 and c2>c5):\n",
    "#         predicted_label=\"c2\"\n",
    "#     elif(c3>c1 and c3>c2 and c3>c5 and c3>c4):\n",
    "#         predicted_label=\"c3\"\n",
    "#     elif(c4>c1 and c4>c2 and c4>c3 and c4>c5):\n",
    "#         predicted_label=\"c4\"\n",
    "#     elif(c5>c1 and c5>c2 and c5>c3 and c5>c4):\n",
    "#         predicted_label=\"c5\"\n",
    "    C1=0\n",
    "    C2=0\n",
    "    C3=0\n",
    "    C4=0\n",
    "    C5=0\n",
    "    predicted_label=\"None\"\n",
    "    for dist,clas in Top3:\n",
    "        if(clas=='C1'):\n",
    "            C1=C1+dist\n",
    "        elif(clas=='C2'):\n",
    "            C2=C2+dist\n",
    "        elif(clas=='C3'):\n",
    "            C3=C3+dist\n",
    "        elif(clas=='C4'):\n",
    "            C4=C4+dist\n",
    "        else:\n",
    "            C5=C5+dist\n",
    "    if(C1>C2 and C1>C3 and C1>C4 and C1>C5):\n",
    "        predicted_label=\"C1\"\n",
    "    elif(C2>C1 and C2>C3 and C2>C4 and C2>C5):\n",
    "        predicted_label=\"C2\"\n",
    "    elif(C3>C1 and C3>C2 and C3>C4 and C3>C5):\n",
    "        predicted_label=\"C3\"\n",
    "    elif(C4>C1 and C4>C2 and C4>C3 and C4>C5):\n",
    "        predicted_label=\"C4\"\n",
    "    elif(C5>C1 and C5>C2 and C5>C3 and C5>C4):\n",
    "        predicted_label=\"C5\"\n",
    "    predicted.append(predicted_label)\n",
    "print predicted"
   ]
  },
  {
   "cell_type": "markdown",
   "metadata": {},
   "source": [
    "The classes are predicted accordingly and are stored in the distances array for all the 21 values."
   ]
  },
  {
   "cell_type": "code",
   "execution_count": 36,
   "metadata": {},
   "outputs": [
    {
     "name": "stdout",
     "output_type": "stream",
     "text": [
      "Predictions have an accuracy of 28.57%.\n"
     ]
    }
   ],
   "source": [
    "def accuracy_score(truth, pred):\n",
    "    \"\"\" Returns accuracy score for input truth and predictions. \"\"\"\n",
    "    \n",
    "    # Ensure that the number of predictions matches number of outcomes\n",
    "    if len(truth) == len(pred): \n",
    "        \n",
    "        # Calculate and return the accuracy as a percent\n",
    "        return \"Predictions have an accuracy of {:.2f}%.\".format((truth == pred).mean()*100)\n",
    "    \n",
    "    else:\n",
    "        return \"Number of predictions does not match number of outcomes!\"\n",
    "print accuracy_score(label,predicted)"
   ]
  },
  {
   "cell_type": "markdown",
   "metadata": {
    "collapsed": true
   },
   "source": [
    "The accuracy for the data is 28.57%"
   ]
  },
  {
   "cell_type": "code",
   "execution_count": null,
   "metadata": {
    "collapsed": true
   },
   "outputs": [],
   "source": []
  }
 ],
 "metadata": {
  "kernelspec": {
   "display_name": "Python 2",
   "language": "python",
   "name": "python2"
  },
  "language_info": {
   "codemirror_mode": {
    "name": "ipython",
    "version": 2
   },
   "file_extension": ".py",
   "mimetype": "text/x-python",
   "name": "python",
   "nbconvert_exporter": "python",
   "pygments_lexer": "ipython2",
   "version": "2.7.13"
  }
 },
 "nbformat": 4,
 "nbformat_minor": 2
}
